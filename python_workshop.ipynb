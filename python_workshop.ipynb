{
 "cells": [
  {
   "cell_type": "markdown",
   "id": "f7cfc2cc-3679-479d-967c-bfea864a2dfe",
   "metadata": {},
   "source": [
    "<img src=\"images/python-logo-only.png\" height=150/> \n",
    "\n",
    "# Python Workshop\n",
    "\n",
    "<b>What this is about</b>\n",
    "\n",
    "This knowledge share is about sharing the tools I've found to be useful when working with Python on different projects, and some of the tips and observations to work with Python effectively.\n",
    "\n",
    "\n",
    "<b>What this is not about</b>\n",
    "\n",
    "How to write Python code or do specific tasks in Python. Some tricks and tips will still be covered, but there are numerous articles that covers in better detail than I do.\n",
    "- An example for efficient coding is here: https://www.datacamp.com/tutorial/python-tips-examples\n",
    "- And there is no better style guide than the official one: https://pep8.org/"
   ]
  },
  {
   "cell_type": "markdown",
   "id": "634d3466-dcb7-4d45-b38b-dac0bbd0e827",
   "metadata": {},
   "source": [
    "## Introduction\n",
    "\n",
    "<img src=\"images/memes/native.jpg\" height=250/> "
   ]
  },
  {
   "cell_type": "markdown",
   "id": "9b1f676a-63c6-45b2-a70e-ed7edc073441",
   "metadata": {},
   "source": [
    "### To Python or not to `Python`\n",
    "\n",
    "\n",
    "\n",
    "#### Compare with `MATLAB`\n",
    "\n",
    "<b>Why is `Python` better</b>\n",
    "- It is free\n",
    "- It is a more general purpose programming language, more on this later\n",
    "- It has a large open source community, there is always a package somewhere to do the thing you want\n",
    "- It has better path management, and allow more flexible folder and package structures\n",
    "- 0-based indexing and square brackets for indexing items\n",
    "\n",
    "<img src=\"images/memes/MATLAB.png\" height=300/>\n",
    "\n",
    "<b>Why is `MATLAB` better</b>\n",
    "- It is fast\n",
    "- Its default plotting is more powerful than the popular `matplotlib` library\n",
    "- Advance MATLAB toolboxes' functions and performance is still unrivalled\n",
    "- It is proprietary and generally better maintained \n",
    "\n",
    "<img src=\"images/memes/Python_bloat.png\" height=300/>\n",
    "\n",
    "#### Compare with C-based languages\n",
    "\n",
    "<b>Why is `Python` better</b>\n",
    "- Easy to write and understand the syntax\n",
    "- Quick to develop and prototype code\n",
    "- Availability of libraries\n",
    "- Good integration with other languages and tools\n",
    "- Cross-system compatibility\n",
    "\n",
    "<img src=\"images/memes/Python_open_source.png\" height=300/>\n",
    "\n",
    "<b>Why is `Python` worse</b>\n",
    "- `Python` is dynamically typed, which can make variable type confusing\n",
    "- Member variables can be added dynamically to objects on the fly\n",
    "- `Python` is much slower than lower level languages such as `C++`\n",
    "- `Python` multi-processing and memory management capabilities are a bit lacking\n",
    "\n",
    "<img src=\"images/memes/types.jpg\" height=300/> "
   ]
  },
  {
   "cell_type": "markdown",
   "id": "4caa6227-f899-44f0-882f-e66c284ca554",
   "metadata": {},
   "source": [
    "## My Tool Stack"
   ]
  },
  {
   "cell_type": "markdown",
   "metadata": {},
   "source": [
    "### VS Code\n",
    "\n",
    "The benefits listed here are not exclusive to VS Code, however I've found VS Code to be the most \n",
    "\n",
    "<b>Extensions I use, in order of importance</b>\n",
    "- Python (https://marketplace.visualstudio.com/items?itemName=ms-python.python) \n",
    "- Jupyter (https://marketplace.visualstudio.com/items?itemName=ms-toolsai.jupyter)\n",
    "- autoDocstring (https://marketplace.visualstudio.com/items?itemName=njpwerner.autodocstring)\n",
    "- indent-rainbow (https://marketplace.visualstudio.com/items?itemName=oderwat.indent-rainbow)\n",
    "\n",
    "\n",
    "<b>Setup</b>\n",
    "\n",
    "Important to set tab size explicitly to 4 spaces, my VS Code has detected odd spacing before with some scripts. As `Python` is indentation sensitive, this can be annoying...\n",
    "<img src=\"images/editor/tab_size.png\" />\n",
    "\n",
    "I personally prefer the Numpy style docstring with type hints for inputs, but this is just a personal preference\n",
    "<img src=\"images/editor/docstring_format.png\" />"
   ]
  },
  {
   "cell_type": "markdown",
   "id": "56494570-0426-4333-898e-4f27a262d1b9",
   "metadata": {},
   "source": [
    "### Jupyter Notebooks\n",
    "\n",
    "There are also good reasons not to, a very fun presentation explaining its drawbacks can be found [here](https://docs.google.com/presentation/d/1n2RlMdmv1p25Xy5thJUhkKGvjtV-dkAIsUXP-AL4ffI/edit#slide=id.g362da58057_0_1).\n",
    "\n",
    "However I still use Jupyter notebooks a lot:\n",
    "- A lot of the drawbacks can be mitigated with good practices (of which some I will mention)\n",
    "- Notebooks allows good self-documentation and communication"
   ]
  },
  {
   "cell_type": "markdown",
   "metadata": {},
   "source": [
    "#### Markdown Capabilities\n",
    "\n",
    "<b>Tables</b>\n",
    "\n",
    "[Useful table generator](https://www.tablesgenerator.com/markdown_tables)\n",
    "|       | Column 1 | Column 2 | Colum 3 | Column 4 |\n",
    "|-------|----------|----------|---------|----------|\n",
    "| Row 1 | 1        | 2        | 3       | 4        |\n",
    "| Row 2 | 5        | 6        | 7       | 8        |\n",
    "| Row 3 | 9        | 10       | 11      | 11       |\n",
    "\n",
    "Some packages like `pandas` also provide easy table construction and printing, more on that later\n",
    "\n",
    "<b>Mathematical Expressions</b>\n",
    "\n",
    "You can easily insert $LaTeX$ expressions in notebooks to explain workings!\n",
    "\n",
    "$\\rho ( \\frac{\\partial{v}}{\\partial{t}} ) = -\\nabla p + \\rho g + \\mu \\nabla^2 V$\n",
    "\n",
    "\\begin{align}\n",
    "a_{11}& =b_{11}&\n",
    "  a_{12}& =b_{12}\\\\\n",
    "a_{21}& =b_{21}&\n",
    "  a_{22}& =b_{22}+c_{22}\n",
    "\\end{align}\n",
    "\n",
    "$$\n",
    "A = \n",
    "\\begin{bmatrix}\n",
    "1 & 2 \\\\\n",
    "3 & 4\n",
    "\\end{bmatrix}\n",
    "$$\n"
   ]
  },
  {
   "cell_type": "markdown",
   "metadata": {},
   "source": [
    "#### Command line capabilities\n",
    "\n",
    "Or in fact, running code snippets from other programming languages\n",
    "\n",
    "<img src=\"images/extensions/jupyter_languages.png\" />"
   ]
  },
  {
   "cell_type": "code",
   "execution_count": 5,
   "metadata": {},
   "outputs": [
    {
     "name": "stdout",
     "output_type": "stream",
     "text": [
      "Package                   Version\n",
      "------------------------- ------------\n",
      "altgraph                  0.17.4\n",
      "asttokens                 2.4.1\n",
      "colorama                  0.4.6\n",
      "comm                      0.2.1\n",
      "contourpy                 1.2.0\n",
      "cycler                    0.12.1\n",
      "debugpy                   1.8.0\n",
      "decorator                 5.1.1\n",
      "executing                 2.0.1\n",
      "fonttools                 4.47.0\n",
      "ipykernel                 6.28.0\n",
      "ipython                   8.20.0\n",
      "jedi                      0.19.1\n",
      "jupyter_client            8.6.0\n",
      "jupyter_core              5.7.1\n",
      "kiwisolver                1.4.5\n",
      "matplotlib                3.8.2\n",
      "matplotlib-inline         0.1.6\n",
      "nest-asyncio              1.5.8\n",
      "numpy                     1.26.3\n",
      "packaging                 23.2\n",
      "pandas                    2.1.4\n",
      "parso                     0.8.3\n",
      "pefile                    2023.2.7\n",
      "pillow                    10.2.0\n",
      "pip                       23.3.2\n",
      "platformdirs              4.1.0\n",
      "prompt-toolkit            3.0.43\n",
      "psutil                    5.9.7\n",
      "pure-eval                 0.2.2\n",
      "Pygments                  2.17.2\n",
      "pyinstaller               6.3.0\n",
      "pyinstaller-hooks-contrib 2023.12\n",
      "pyparsing                 3.1.1\n",
      "python-dateutil           2.8.2\n",
      "pytz                      2023.3.post1\n",
      "pywin32                   306\n",
      "pywin32-ctypes            0.2.2\n",
      "pyzmq                     25.1.2\n",
      "scipy                     1.11.4\n",
      "setuptools                65.5.0\n",
      "six                       1.16.0\n",
      "stack-data                0.6.3\n",
      "tornado                   6.4\n",
      "traitlets                 5.14.1\n",
      "tzdata                    2023.4\n",
      "wcwidth                   0.2.13\n"
     ]
    }
   ],
   "source": [
    "! pip list"
   ]
  },
  {
   "cell_type": "code",
   "execution_count": 12,
   "metadata": {},
   "outputs": [
    {
     "name": "stdout",
     "output_type": "stream",
     "text": [
      "Python 3.11.4\n",
      "\"Hello World!\"\n"
     ]
    }
   ],
   "source": [
    "! python --version\n",
    "! echo \"Hello World!\""
   ]
  },
  {
   "cell_type": "markdown",
   "metadata": {},
   "source": [
    "## Virtual Environment"
   ]
  },
  {
   "cell_type": "code",
   "execution_count": 10,
   "metadata": {},
   "outputs": [],
   "source": [
    "! python -m venv new_env"
   ]
  },
  {
   "cell_type": "markdown",
   "metadata": {},
   "source": [
    "## Big Five of Python Libraries\n",
    "\n",
    "Most tasks can be done well with the following libraries\n",
    "- Linear algebra and numerical calculations `numpy`\n",
    "- Signal processing, and other more advanced computation `scipy`\n",
    "- Data processing, organisation, and analysis `pandas`\n",
    "- Data visualisation `matplotlib`\n",
    "- Data processing and traditional machine learning `sklearn`"
   ]
  },
  {
   "cell_type": "code",
   "execution_count": 6,
   "metadata": {},
   "outputs": [
    {
     "name": "stdout",
     "output_type": "stream",
     "text": [
      "Requirement already satisfied: numpy in c:\\users\\gc6\\training\\introduction-to-python\\.venv\\lib\\site-packages (1.26.3)\n",
      "Requirement already satisfied: scipy in c:\\users\\gc6\\training\\introduction-to-python\\.venv\\lib\\site-packages (1.11.4)\n",
      "Requirement already satisfied: numpy<1.28.0,>=1.21.6 in c:\\users\\gc6\\training\\introduction-to-python\\.venv\\lib\\site-packages (from scipy) (1.26.3)\n",
      "Requirement already satisfied: pandas in c:\\users\\gc6\\training\\introduction-to-python\\.venv\\lib\\site-packages (2.1.4)\n",
      "Requirement already satisfied: numpy<2,>=1.23.2 in c:\\users\\gc6\\training\\introduction-to-python\\.venv\\lib\\site-packages (from pandas) (1.26.3)\n",
      "Requirement already satisfied: python-dateutil>=2.8.2 in c:\\users\\gc6\\training\\introduction-to-python\\.venv\\lib\\site-packages (from pandas) (2.8.2)\n",
      "Requirement already satisfied: pytz>=2020.1 in c:\\users\\gc6\\training\\introduction-to-python\\.venv\\lib\\site-packages (from pandas) (2023.3.post1)\n",
      "Requirement already satisfied: tzdata>=2022.1 in c:\\users\\gc6\\training\\introduction-to-python\\.venv\\lib\\site-packages (from pandas) (2023.4)\n",
      "Requirement already satisfied: six>=1.5 in c:\\users\\gc6\\training\\introduction-to-python\\.venv\\lib\\site-packages (from python-dateutil>=2.8.2->pandas) (1.16.0)\n",
      "Requirement already satisfied: matplotlib in c:\\users\\gc6\\training\\introduction-to-python\\.venv\\lib\\site-packages (3.8.2)\n",
      "Requirement already satisfied: contourpy>=1.0.1 in c:\\users\\gc6\\training\\introduction-to-python\\.venv\\lib\\site-packages (from matplotlib) (1.2.0)\n",
      "Requirement already satisfied: cycler>=0.10 in c:\\users\\gc6\\training\\introduction-to-python\\.venv\\lib\\site-packages (from matplotlib) (0.12.1)\n",
      "Requirement already satisfied: fonttools>=4.22.0 in c:\\users\\gc6\\training\\introduction-to-python\\.venv\\lib\\site-packages (from matplotlib) (4.47.0)\n",
      "Requirement already satisfied: kiwisolver>=1.3.1 in c:\\users\\gc6\\training\\introduction-to-python\\.venv\\lib\\site-packages (from matplotlib) (1.4.5)\n",
      "Requirement already satisfied: numpy<2,>=1.21 in c:\\users\\gc6\\training\\introduction-to-python\\.venv\\lib\\site-packages (from matplotlib) (1.26.3)\n",
      "Requirement already satisfied: packaging>=20.0 in c:\\users\\gc6\\training\\introduction-to-python\\.venv\\lib\\site-packages (from matplotlib) (23.2)\n",
      "Requirement already satisfied: pillow>=8 in c:\\users\\gc6\\training\\introduction-to-python\\.venv\\lib\\site-packages (from matplotlib) (10.2.0)\n",
      "Requirement already satisfied: pyparsing>=2.3.1 in c:\\users\\gc6\\training\\introduction-to-python\\.venv\\lib\\site-packages (from matplotlib) (3.1.1)\n",
      "Requirement already satisfied: python-dateutil>=2.7 in c:\\users\\gc6\\training\\introduction-to-python\\.venv\\lib\\site-packages (from matplotlib) (2.8.2)\n",
      "Requirement already satisfied: six>=1.5 in c:\\users\\gc6\\training\\introduction-to-python\\.venv\\lib\\site-packages (from python-dateutil>=2.7->matplotlib) (1.16.0)\n",
      "Collecting scikit-learn\n",
      "  Downloading scikit_learn-1.3.2-cp311-cp311-win_amd64.whl.metadata (11 kB)\n",
      "Requirement already satisfied: numpy<2.0,>=1.17.3 in c:\\users\\gc6\\training\\introduction-to-python\\.venv\\lib\\site-packages (from scikit-learn) (1.26.3)\n",
      "Requirement already satisfied: scipy>=1.5.0 in c:\\users\\gc6\\training\\introduction-to-python\\.venv\\lib\\site-packages (from scikit-learn) (1.11.4)\n",
      "Collecting joblib>=1.1.1 (from scikit-learn)\n",
      "  Downloading joblib-1.3.2-py3-none-any.whl.metadata (5.4 kB)\n",
      "Collecting threadpoolctl>=2.0.0 (from scikit-learn)\n",
      "  Downloading threadpoolctl-3.2.0-py3-none-any.whl.metadata (10.0 kB)\n",
      "Downloading scikit_learn-1.3.2-cp311-cp311-win_amd64.whl (9.2 MB)\n",
      "   ---------------------------------------- 0.0/9.2 MB ? eta -:--:--\n",
      "   -- ------------------------------------- 0.6/9.2 MB 18.5 MB/s eta 0:00:01\n",
      "   ------- -------------------------------- 1.8/9.2 MB 23.4 MB/s eta 0:00:01\n",
      "   ----------------- ---------------------- 4.0/9.2 MB 32.0 MB/s eta 0:00:01\n",
      "   --------------------------------- ------ 7.7/9.2 MB 41.3 MB/s eta 0:00:01\n",
      "   ---------------------------------------- 9.2/9.2 MB 42.2 MB/s eta 0:00:00\n",
      "Downloading joblib-1.3.2-py3-none-any.whl (302 kB)\n",
      "   ---------------------------------------- 0.0/302.2 kB ? eta -:--:--\n",
      "   --------------------------------------- 302.2/302.2 kB 18.2 MB/s eta 0:00:00\n",
      "Downloading threadpoolctl-3.2.0-py3-none-any.whl (15 kB)\n",
      "Installing collected packages: threadpoolctl, joblib, scikit-learn\n",
      "Successfully installed joblib-1.3.2 scikit-learn-1.3.2 threadpoolctl-3.2.0\n"
     ]
    }
   ],
   "source": [
    "! pip install numpy\n",
    "! pip install scipy\n",
    "! pip install pandas\n",
    "! pip install matplotlib \n",
    "! pip install scikit-learn"
   ]
  },
  {
   "cell_type": "code",
   "execution_count": 9,
   "metadata": {},
   "outputs": [],
   "source": [
    "import numpy as np\n",
    "import scipy.signal as signal  # signal processing\n"
   ]
  },
  {
   "cell_type": "markdown",
   "metadata": {},
   "source": [
    "## Building Executables"
   ]
  },
  {
   "cell_type": "code",
   "execution_count": 3,
   "metadata": {},
   "outputs": [
    {
     "name": "stderr",
     "output_type": "stream",
     "text": [
      "usage: pyinstaller [-h] [-v] [-D] [-F] [--specpath DIR] [-n NAME]\n",
      "                   [--contents-directory CONTENTS_DIRECTORY]\n",
      "                   [--add-data SOURCE:DEST] [--add-binary SOURCE:DEST]\n",
      "                   [-p DIR] [--hidden-import MODULENAME]\n",
      "                   [--collect-submodules MODULENAME]\n",
      "                   [--collect-data MODULENAME] [--collect-binaries MODULENAME]\n",
      "                   [--collect-all MODULENAME] [--copy-metadata PACKAGENAME]\n",
      "                   [--recursive-copy-metadata PACKAGENAME]\n",
      "                   [--additional-hooks-dir HOOKSPATH]\n",
      "                   [--runtime-hook RUNTIME_HOOKS] [--exclude-module EXCLUDES]\n",
      "                   [--splash IMAGE_FILE]\n",
      "                   [-d {all,imports,bootloader,noarchive}]\n",
      "                   [--python-option PYTHON_OPTION] [-s] [--noupx]\n",
      "                   [--upx-exclude FILE] [-c] [-w]\n",
      "                   [--hide-console {minimize-early,hide-early,hide-late,minimize-late}]\n",
      "                   [-i <FILE.ico or FILE.exe,ID or FILE.icns or Image or \"NONE\">]\n",
      "                   [--disable-windowed-traceback] [--version-file FILE]\n",
      "                   [-m <FILE or XML>] [-r RESOURCE] [--uac-admin]\n",
      "                   [--uac-uiaccess] [--argv-emulation]\n",
      "                   [--osx-bundle-identifier BUNDLE_IDENTIFIER]\n",
      "                   [--target-architecture ARCH] [--codesign-identity IDENTITY]\n",
      "                   [--osx-entitlements-file FILENAME] [--runtime-tmpdir PATH]\n",
      "                   [--bootloader-ignore-signals] [--distpath DIR]\n",
      "                   [--workpath WORKPATH] [-y] [--upx-dir UPX_DIR] [--clean]\n",
      "                   [--log-level LEVEL]\n",
      "                   scriptname [scriptname ...]\n",
      "pyinstaller: error: the following arguments are required: scriptname\n"
     ]
    }
   ],
   "source": [
    "! pyinstaller"
   ]
  },
  {
   "cell_type": "code",
   "execution_count": null,
   "metadata": {},
   "outputs": [],
   "source": []
  }
 ],
 "metadata": {
  "kernelspec": {
   "display_name": "Python 3 (ipykernel)",
   "language": "python",
   "name": "python3"
  },
  "language_info": {
   "codemirror_mode": {
    "name": "ipython",
    "version": 3
   },
   "file_extension": ".py",
   "mimetype": "text/x-python",
   "name": "python",
   "nbconvert_exporter": "python",
   "pygments_lexer": "ipython3",
   "version": "3.11.4"
  }
 },
 "nbformat": 4,
 "nbformat_minor": 5
}
