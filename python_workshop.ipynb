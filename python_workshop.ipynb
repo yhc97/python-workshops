{
 "cells": [
  {
   "cell_type": "markdown",
   "id": "f7cfc2cc-3679-479d-967c-bfea864a2dfe",
   "metadata": {},
   "source": [
    "# Python Workshop\n",
    "<img src=\"images/python-logo-only.png\" width=\"100\" height=\"100\"> \n"
   ]
  },
  {
   "cell_type": "markdown",
   "id": "634d3466-dcb7-4d45-b38b-dac0bbd0e827",
   "metadata": {},
   "source": [
    "## Introduction"
   ]
  },
  {
   "cell_type": "markdown",
   "id": "9b1f676a-63c6-45b2-a70e-ed7edc073441",
   "metadata": {},
   "source": [
    "### To Python or not to Python"
   ]
  },
  {
   "cell_type": "markdown",
   "id": "56494570-0426-4333-898e-4f27a262d1b9",
   "metadata": {},
   "source": [
    "### Package Structure and use of Notebooks"
   ]
  },
  {
   "cell_type": "markdown",
   "id": "4caa6227-f899-44f0-882f-e66c284ca554",
   "metadata": {},
   "source": [
    "## Scientific Programming"
   ]
  },
  {
   "cell_type": "markdown",
   "id": "765d5e16-1c04-4d36-b5d5-8eddd6bf82d8",
   "metadata": {},
   "source": [
    "### Computation"
   ]
  },
  {
   "cell_type": "markdown",
   "id": "896a876e-6d69-4fa1-94a6-2879c50b74e4",
   "metadata": {},
   "source": [
    "### Multiprocessing"
   ]
  },
  {
   "cell_type": "markdown",
   "id": "7ad1de88-f279-4d4c-b816-f086266e2634",
   "metadata": {},
   "source": [
    "## Data Handling"
   ]
  },
  {
   "cell_type": "markdown",
   "id": "d87e4d4d-eede-4747-bfe2-d8bcb4559ef9",
   "metadata": {},
   "source": [
    "### File IO"
   ]
  },
  {
   "cell_type": "markdown",
   "id": "a76cbb07-c5eb-40db-9ae1-9a6ecdb6aaee",
   "metadata": {},
   "source": [
    "### Data Processing"
   ]
  },
  {
   "cell_type": "markdown",
   "id": "f2f301cc-7140-4acd-8125-6b802cc53d09",
   "metadata": {},
   "source": [
    "## Data Visualisation"
   ]
  },
  {
   "cell_type": "markdown",
   "id": "6efdf7e9-2a19-42dd-8f66-22c6d4ae699b",
   "metadata": {},
   "source": [
    "### Simple Plotting"
   ]
  },
  {
   "cell_type": "markdown",
   "id": "da0c6d9c-d0ee-48bd-8254-b02f42b2e81e",
   "metadata": {},
   "source": [
    "### Data Dashboarding"
   ]
  },
  {
   "cell_type": "markdown",
   "id": "aafba856-da61-4b15-893d-dcd47af36431",
   "metadata": {},
   "source": [
    "## Device Control and Data Acquisition"
   ]
  },
  {
   "cell_type": "markdown",
   "id": "0efb6f62-719a-439e-8fa7-08d90389949a",
   "metadata": {},
   "source": [
    "### MicroPython"
   ]
  },
  {
   "cell_type": "markdown",
   "id": "fc01064d-5755-4299-a276-7b952ac0617e",
   "metadata": {},
   "source": [
    "### Simple GUI App"
   ]
  },
  {
   "cell_type": "markdown",
   "id": "b9585bbc-4e7a-4b98-931c-10c528b96859",
   "metadata": {},
   "source": [
    "### Data Acquisition"
   ]
  }
 ],
 "metadata": {
  "kernelspec": {
   "display_name": "Python 3 (ipykernel)",
   "language": "python",
   "name": "python3"
  },
  "language_info": {
   "codemirror_mode": {
    "name": "ipython",
    "version": 3
   },
   "file_extension": ".py",
   "mimetype": "text/x-python",
   "name": "python",
   "nbconvert_exporter": "python",
   "pygments_lexer": "ipython3",
   "version": "3.11.4"
  }
 },
 "nbformat": 4,
 "nbformat_minor": 5
}
